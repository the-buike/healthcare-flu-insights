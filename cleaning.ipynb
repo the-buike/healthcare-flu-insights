{
 "cells": [
  {
   "cell_type": "code",
   "execution_count": 1,
   "id": "66e47e3d",
   "metadata": {},
   "outputs": [],
   "source": [
    "#import necessary library\n",
    "import pandas as pd, numpy as np, re, unicodedata, hashlib, string\n",
    "from IPython.display import HTML\n",
    "import base64"
   ]
  }
 ],
 "metadata": {
  "kernelspec": {
   "display_name": "Python 3",
   "language": "python",
   "name": "python3"
  },
  "language_info": {
   "codemirror_mode": {
    "name": "ipython",
    "version": 3
   },
   "file_extension": ".py",
   "mimetype": "text/x-python",
   "name": "python",
   "nbconvert_exporter": "python",
   "pygments_lexer": "ipython3",
   "version": "3.13.3"
  }
 },
 "nbformat": 4,
 "nbformat_minor": 5
}
